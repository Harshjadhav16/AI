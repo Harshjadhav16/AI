{
  "nbformat": 4,
  "nbformat_minor": 0,
  "metadata": {
    "colab": {
      "provenance": []
    },
    "kernelspec": {
      "name": "python3",
      "display_name": "Python 3"
    },
    "language_info": {
      "name": "python"
    }
  },
  "cells": [
    {
      "cell_type": "code",
      "source": [
        "print(\"\\nWelcome to the Missionaries and Cannibals Problem!\")\n",
        "print(\"\\nObjective: Move all the missionaries and cannibals from the left side to the right side of the river.\")\n",
        "print(\"Rules:\\n1. The boat can carry at most two people.\\n2. If cannibals outnumber missionaries on either side, the cannibals will eat the missionaries.\\n3. The boat cannot travel without any passengers.\\n\")\n",
        "\n",
        "left_missionaries = 3\n",
        "left_cannibals = 3\n",
        "right_missionaries = 0\n",
        "right_cannibals = 0\n",
        "\n",
        "print(\"\\nInitial State: \\nM M M C C C | --- | \\n\")\n",
        "\n",
        "attempts = 0\n",
        "\n",
        "try:\n",
        "    while True:\n",
        "        while True:\n",
        "            print(\"Move from left to right:\")\n",
        "            missionaries_to_move = int(input(\"Enter number of Missionaries to move: \"))\n",
        "            cannibals_to_move = int(input(\"Enter number of Cannibals to move: \"))\n",
        "\n",
        "            if missionaries_to_move == 0 and cannibals_to_move == 0:\n",
        "                print(\"You must move at least one person. Please re-enter.\")\n",
        "            elif missionaries_to_move + cannibals_to_move <= 2 and missionaries_to_move <= left_missionaries and cannibals_to_move <= left_cannibals:\n",
        "                break\n",
        "            else:\n",
        "                print(\"Invalid move. Please re-enter.\")\n",
        "\n",
        "        left_missionaries -= missionaries_to_move\n",
        "        left_cannibals -= cannibals_to_move\n",
        "        right_missionaries += missionaries_to_move\n",
        "        right_cannibals += cannibals_to_move\n",
        "\n",
        "        print(\"\\nCurrent State:\")\n",
        "        print(\"Left Side: \" + \"M \" * left_missionaries + \"C \" * left_cannibals + \"| --> | \" + \"M \" * right_missionaries + \"C \" * right_cannibals + \"\\n\")\n",
        "\n",
        "        attempts += 1\n",
        "\n",
        "        if (left_cannibals > left_missionaries > 0) or (right_cannibals > right_missionaries > 0):\n",
        "            print(\"Cannibals have outnumbered missionaries. You lost the game.\")\n",
        "            break\n",
        "\n",
        "        if right_missionaries + right_cannibals == 6:\n",
        "            print(\"Congratulations! You won the game in\", attempts, \"attempts.\")\n",
        "            break\n",
        "\n",
        "        while True:\n",
        "            print(\"Move from right to left:\")\n",
        "            missionaries_to_move_back = int(input(\"Enter number of Missionaries to move: \"))\n",
        "            cannibals_to_move_back = int(input(\"Enter number of Cannibals to move: \"))\n",
        "\n",
        "            if missionaries_to_move_back == 0 and cannibals_to_move_back == 0:\n",
        "                print(\"You must move at least one person. Please re-enter.\")\n",
        "            elif missionaries_to_move_back + cannibals_to_move_back <= 2 and missionaries_to_move_back <= right_missionaries and cannibals_to_move_back <= right_cannibals:\n",
        "                break\n",
        "            else:\n",
        "                print(\"Invalid move. Please re-enter.\")\n",
        "\n",
        "        left_missionaries += missionaries_to_move_back\n",
        "        left_cannibals += cannibals_to_move_back\n",
        "        right_missionaries -= missionaries_to_move_back\n",
        "        right_cannibals -= cannibals_to_move_back\n",
        "\n",
        "        attempts += 1\n",
        "\n",
        "        print(\"\\nCurrent State:\")\n",
        "        print(\"Left Side: \" + \"M \" * left_missionaries + \"C \" * left_cannibals + \"| <-- | \" + \"M \" * right_missionaries + \"C \" * right_cannibals + \"\\n\")\n",
        "\n",
        "        if (left_cannibals > left_missionaries > 0) or (right_cannibals > right_missionaries > 0):\n",
        "            print(\"Cannibals have outnumbered missionaries. You lost the game.\")\n",
        "            break\n",
        "\n",
        "except EOFError:\n",
        "    print(\"\\nInvalid input. Please restart the game.\")\n"
      ],
      "metadata": {
        "colab": {
          "base_uri": "https://localhost:8080/",
          "height": 626
        },
        "id": "6xaR_K7OS37O",
        "outputId": "0e1cc783-22fb-4f1d-e296-dc543daa1408"
      },
      "execution_count": null,
      "outputs": [
        {
          "output_type": "stream",
          "name": "stdout",
          "text": [
            "\n",
            "Welcome to the Missionaries and Cannibals Problem!\n",
            "\n",
            "Objective: Move all the missionaries and cannibals from the left side to the right side of the river.\n",
            "Rules:\n",
            "1. The boat can carry at most two people.\n",
            "2. If cannibals outnumber missionaries on either side, the cannibals will eat the missionaries.\n",
            "3. The boat cannot travel without any passengers.\n",
            "\n",
            "\n",
            "Initial State: \n",
            "M M M C C C | --- | \n",
            "\n",
            "Move from left to right:\n"
          ]
        },
        {
          "output_type": "error",
          "ename": "KeyboardInterrupt",
          "evalue": "Interrupted by user",
          "traceback": [
            "\u001b[0;31m---------------------------------------------------------------------------\u001b[0m",
            "\u001b[0;31mKeyboardInterrupt\u001b[0m                         Traceback (most recent call last)",
            "\u001b[0;32m<ipython-input-5-43e0a02087a9>\u001b[0m in \u001b[0;36m<cell line: 14>\u001b[0;34m()\u001b[0m\n\u001b[1;32m     16\u001b[0m         \u001b[0;32mwhile\u001b[0m \u001b[0;32mTrue\u001b[0m\u001b[0;34m:\u001b[0m\u001b[0;34m\u001b[0m\u001b[0;34m\u001b[0m\u001b[0m\n\u001b[1;32m     17\u001b[0m             \u001b[0mprint\u001b[0m\u001b[0;34m(\u001b[0m\u001b[0;34m\"Move from left to right:\"\u001b[0m\u001b[0;34m)\u001b[0m\u001b[0;34m\u001b[0m\u001b[0;34m\u001b[0m\u001b[0m\n\u001b[0;32m---> 18\u001b[0;31m             \u001b[0mmissionaries_to_move\u001b[0m \u001b[0;34m=\u001b[0m \u001b[0mint\u001b[0m\u001b[0;34m(\u001b[0m\u001b[0minput\u001b[0m\u001b[0;34m(\u001b[0m\u001b[0;34m\"Enter number of Missionaries to move: \"\u001b[0m\u001b[0;34m)\u001b[0m\u001b[0;34m)\u001b[0m\u001b[0;34m\u001b[0m\u001b[0;34m\u001b[0m\u001b[0m\n\u001b[0m\u001b[1;32m     19\u001b[0m             \u001b[0mcannibals_to_move\u001b[0m \u001b[0;34m=\u001b[0m \u001b[0mint\u001b[0m\u001b[0;34m(\u001b[0m\u001b[0minput\u001b[0m\u001b[0;34m(\u001b[0m\u001b[0;34m\"Enter number of Cannibals to move: \"\u001b[0m\u001b[0;34m)\u001b[0m\u001b[0;34m)\u001b[0m\u001b[0;34m\u001b[0m\u001b[0;34m\u001b[0m\u001b[0m\n\u001b[1;32m     20\u001b[0m \u001b[0;34m\u001b[0m\u001b[0m\n",
            "\u001b[0;32m/usr/local/lib/python3.10/dist-packages/ipykernel/kernelbase.py\u001b[0m in \u001b[0;36mraw_input\u001b[0;34m(self, prompt)\u001b[0m\n\u001b[1;32m    849\u001b[0m                 \u001b[0;34m\"raw_input was called, but this frontend does not support input requests.\"\u001b[0m\u001b[0;34m\u001b[0m\u001b[0;34m\u001b[0m\u001b[0m\n\u001b[1;32m    850\u001b[0m             )\n\u001b[0;32m--> 851\u001b[0;31m         return self._input_request(str(prompt),\n\u001b[0m\u001b[1;32m    852\u001b[0m             \u001b[0mself\u001b[0m\u001b[0;34m.\u001b[0m\u001b[0m_parent_ident\u001b[0m\u001b[0;34m,\u001b[0m\u001b[0;34m\u001b[0m\u001b[0;34m\u001b[0m\u001b[0m\n\u001b[1;32m    853\u001b[0m             \u001b[0mself\u001b[0m\u001b[0;34m.\u001b[0m\u001b[0m_parent_header\u001b[0m\u001b[0;34m,\u001b[0m\u001b[0;34m\u001b[0m\u001b[0;34m\u001b[0m\u001b[0m\n",
            "\u001b[0;32m/usr/local/lib/python3.10/dist-packages/ipykernel/kernelbase.py\u001b[0m in \u001b[0;36m_input_request\u001b[0;34m(self, prompt, ident, parent, password)\u001b[0m\n\u001b[1;32m    893\u001b[0m             \u001b[0;32mexcept\u001b[0m \u001b[0mKeyboardInterrupt\u001b[0m\u001b[0;34m:\u001b[0m\u001b[0;34m\u001b[0m\u001b[0;34m\u001b[0m\u001b[0m\n\u001b[1;32m    894\u001b[0m                 \u001b[0;31m# re-raise KeyboardInterrupt, to truncate traceback\u001b[0m\u001b[0;34m\u001b[0m\u001b[0;34m\u001b[0m\u001b[0m\n\u001b[0;32m--> 895\u001b[0;31m                 \u001b[0;32mraise\u001b[0m \u001b[0mKeyboardInterrupt\u001b[0m\u001b[0;34m(\u001b[0m\u001b[0;34m\"Interrupted by user\"\u001b[0m\u001b[0;34m)\u001b[0m \u001b[0;32mfrom\u001b[0m \u001b[0;32mNone\u001b[0m\u001b[0;34m\u001b[0m\u001b[0;34m\u001b[0m\u001b[0m\n\u001b[0m\u001b[1;32m    896\u001b[0m             \u001b[0;32mexcept\u001b[0m \u001b[0mException\u001b[0m \u001b[0;32mas\u001b[0m \u001b[0me\u001b[0m\u001b[0;34m:\u001b[0m\u001b[0;34m\u001b[0m\u001b[0;34m\u001b[0m\u001b[0m\n\u001b[1;32m    897\u001b[0m                 \u001b[0mself\u001b[0m\u001b[0;34m.\u001b[0m\u001b[0mlog\u001b[0m\u001b[0;34m.\u001b[0m\u001b[0mwarning\u001b[0m\u001b[0;34m(\u001b[0m\u001b[0;34m\"Invalid Message:\"\u001b[0m\u001b[0;34m,\u001b[0m \u001b[0mexc_info\u001b[0m\u001b[0;34m=\u001b[0m\u001b[0;32mTrue\u001b[0m\u001b[0;34m)\u001b[0m\u001b[0;34m\u001b[0m\u001b[0;34m\u001b[0m\u001b[0m\n",
            "\u001b[0;31mKeyboardInterrupt\u001b[0m: Interrupted by user"
          ]
        }
      ]
    }
  ]
}